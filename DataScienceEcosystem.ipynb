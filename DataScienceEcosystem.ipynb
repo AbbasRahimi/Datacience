{
 "cells": [
  {
   "cell_type": "markdown",
   "id": "f4a031ff-b9bc-4ec3-99ef-c9270d20ff7e",
   "metadata": {},
   "source": [
    "# Data Science Tools and Ecosystem"
   ]
  },
  {
   "cell_type": "markdown",
   "id": "ad8a2883-e42e-4101-9886-c7998d7bc40a",
   "metadata": {},
   "source": [
    "In this notebook, Data Science Tools and Ecosystem are summarized."
   ]
  },
  {
   "cell_type": "markdown",
   "id": "b456e068-b82b-42a3-b966-31c0c56afbec",
   "metadata": {},
   "source": [
    "**Objectives:**\n",
    "* List data science libraries\n",
    "* List popular languages for Data Science\n",
    "* List development environment open source tools used in data science"
   ]
  },
  {
   "cell_type": "markdown",
   "id": "eb3ca23c-8b1a-4316-a452-c07a8d3e5f10",
   "metadata": {},
   "source": [
    "Some of the popular languages that Data Scientists use are:\n",
    "1. Python\n",
    "2. R\n",
    "3. Julia\n",
    "4. Java"
   ]
  },
  {
   "cell_type": "markdown",
   "id": "563649d1-9816-454d-8565-a2d3a0d2e56e",
   "metadata": {},
   "source": [
    "Some of the commonly used libraries used by Data Scientists include:\n",
    "1. Matplotlib\n",
    "2. TensorFlow\n",
    "3. SciPy\n",
    "4. NumPy\n",
    "5. Pandas"
   ]
  },
  {
   "cell_type": "markdown",
   "id": "8f579c5a-dd2a-4a7d-82f5-da29455eaf4d",
   "metadata": {},
   "source": [
    "| Data Science Tools |\n",
    "| --- |\n",
    "| RStudio |\n",
    "| Apache Spark |\n",
    "| Apache Hadoop |\n",
    "| Jupyter Notebooks |"
   ]
  },
  {
   "cell_type": "markdown",
   "id": "53f61d41-bac6-4e3b-b407-59f36b469826",
   "metadata": {},
   "source": [
    "### Below are a few examples of evaluating arithmetic expressions in Python.\n",
    "\n",
    "\n"
   ]
  },
  {
   "cell_type": "code",
   "execution_count": 1,
   "id": "77f0a8de-d4d3-4932-885f-96fc2284c740",
   "metadata": {},
   "outputs": [
    {
     "data": {
      "text/plain": [
       "17"
      ]
     },
     "execution_count": 1,
     "metadata": {},
     "output_type": "execute_result"
    }
   ],
   "source": [
    "# This a simple arithmetic expression to mutiply then add integers\n",
    "(3*4)+5"
   ]
  },
  {
   "cell_type": "code",
   "execution_count": 2,
   "id": "bf570cbd-54bf-4f21-8b8b-233cd7d7e136",
   "metadata": {},
   "outputs": [
    {
     "data": {
      "text/plain": [
       "3.3333333333333335"
      ]
     },
     "execution_count": 2,
     "metadata": {},
     "output_type": "execute_result"
    }
   ],
   "source": [
    "# This will convert 200 minutes to hours by diving by 60\n",
    "200/60"
   ]
  },
  {
   "cell_type": "markdown",
   "id": "b66aaccb-cf94-4fce-8f6c-89e275a132c3",
   "metadata": {},
   "source": [
    "## Author\n",
    "Abbas Rahimi"
   ]
  }
 ],
 "metadata": {
  "kernelspec": {
   "display_name": "Python 3 (ipykernel)",
   "language": "python",
   "name": "python3"
  },
  "language_info": {
   "codemirror_mode": {
    "name": "ipython",
    "version": 3
   },
   "file_extension": ".py",
   "mimetype": "text/x-python",
   "name": "python",
   "nbconvert_exporter": "python",
   "pygments_lexer": "ipython3",
   "version": "3.12.8"
  }
 },
 "nbformat": 4,
 "nbformat_minor": 5
}
